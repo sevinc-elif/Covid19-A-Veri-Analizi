{
 "cells": [
  {
   "cell_type": "code",
   "execution_count": 0,
   "metadata": {
    "application/vnd.databricks.v1+cell": {
     "cellMetadata": {
      "byteLimit": 2048000,
      "rowLimit": 10000
     },
     "inputWidgets": {},
     "nuid": "013b2a0d-5727-4998-bc4d-ebd4159adced",
     "showTitle": false,
     "title": ""
    }
   },
   "outputs": [],
   "source": [
    "from pyspark.sql import SparkSession\n",
    "from pyspark.sql.functions import *"
   ]
  },
  {
   "cell_type": "code",
   "execution_count": 0,
   "metadata": {
    "application/vnd.databricks.v1+cell": {
     "cellMetadata": {
      "byteLimit": 2048000,
      "rowLimit": 10000
     },
     "inputWidgets": {},
     "nuid": "7fefb376-adab-4dc8-83cb-f5307fb7cb27",
     "showTitle": false,
     "title": ""
    }
   },
   "outputs": [],
   "source": [
    "sparkSession= SparkSession.builder.appName(\"Veri Analizi\").getOrCreate()"
   ]
  },
  {
   "cell_type": "code",
   "execution_count": 0,
   "metadata": {
    "application/vnd.databricks.v1+cell": {
     "cellMetadata": {
      "byteLimit": 2048000,
      "rowLimit": 10000
     },
     "inputWidgets": {},
     "nuid": "da6b961a-f066-43df-ac0b-73a578bfd89f",
     "showTitle": false,
     "title": ""
    }
   },
   "outputs": [],
   "source": [
    "data = sparkSession.read.csv('/FileStore/tables/Covid19Vaccination.csv',header=True,inferSchema=True)"
   ]
  },
  {
   "cell_type": "code",
   "execution_count": 0,
   "metadata": {
    "application/vnd.databricks.v1+cell": {
     "cellMetadata": {
      "byteLimit": 2048000,
      "rowLimit": 10000
     },
     "inputWidgets": {},
     "nuid": "43885fe0-3863-4e2c-a740-d3a4f34aa316",
     "showTitle": false,
     "title": ""
    }
   },
   "outputs": [
    {
     "output_type": "stream",
     "name": "stdout",
     "output_type": "stream",
     "text": [
      "root\n |-- ID: integer (nullable = true)\n |-- DATE_: string (nullable = true)\n |-- SEQID: integer (nullable = true)\n |-- CITY: string (nullable = true)\n |-- CITY2: string (nullable = true)\n |-- _1DOSE: integer (nullable = true)\n |-- _2DOSE: integer (nullable = true)\n |-- _TOTAL: integer (nullable = true)\n |-- POPULATION: integer (nullable = true)\n |-- DIFF_1DOSE: integer (nullable = true)\n |-- DIFF_2DOSE: integer (nullable = true)\n |-- DIFF_TOTAL: integer (nullable = true)\n |-- PREVID: integer (nullable = true)\n\n"
     ]
    }
   ],
   "source": [
    "data.printSchema()"
   ]
  },
  {
   "cell_type": "code",
   "execution_count": 0,
   "metadata": {
    "application/vnd.databricks.v1+cell": {
     "cellMetadata": {
      "byteLimit": 2048000,
      "rowLimit": 10000
     },
     "inputWidgets": {},
     "nuid": "f8148f8e-d066-4c2a-b68a-7edff99374a5",
     "showTitle": false,
     "title": ""
    }
   },
   "outputs": [
    {
     "output_type": "stream",
     "name": "stdout",
     "output_type": "stream",
     "text": [
      "+------+----------------+-----+--------------+---------+-------+-------+-------+----------+----------+----------+----------+------+\n|    ID|           DATE_|SEQID|          CITY|    CITY2| _1DOSE| _2DOSE| _TOTAL|POPULATION|DIFF_1DOSE|DIFF_2DOSE|DIFF_TOTAL|PREVID|\n+------+----------------+-----+--------------+---------+-------+-------+-------+----------+----------+----------+----------+------+\n|438102|26.06.2021 22:41| 5412|         Adana|    Adana| 784464| 355404|1139868|   2258718|        15|         0|        15|438021|\n|438103|26.06.2021 22:41| 5412|      Adıyaman| Adiyaman| 170847|  77955| 248802|    632459|         2|         0|         2|438022|\n|438104|26.06.2021 22:41| 5412|Afyonkarahisar|    Afyon| 292611| 138934| 431545|    736912|         8|         0|         8|438023|\n|438105|26.06.2021 22:41| 5412|          Ağrı|     Agri|  94807|  41146| 135953|    535435|         0|         0|         0|438024|\n|438106|26.06.2021 22:41| 5412|       Aksaray|  Aksaray| 131889|  62603| 194492|    423011|         3|         0|         3|438025|\n|438107|26.06.2021 22:41| 5412|        Amasya|   Amasya| 169285|  87322| 256607|    335494|         1|         0|         1|438026|\n|438108|26.06.2021 22:41| 5412|        Ankara|   Ankara|2652085|1241906|3893991|   5663322|        91|         6|        97|438027|\n|438109|26.06.2021 22:41| 5412|       Antalya|  Antalya|1055350| 530415|1585765|   2548308|        29|         4|        33|438028|\n|438110|26.06.2021 22:41| 5412|       Ardahan|  Ardahan|  34629|  18642|  53271|     96161|         0|         0|         0|438029|\n|438111|26.06.2021 22:41| 5412|        Artvin|   Artvin|  80554|  43132| 123686|    169501|         0|         0|         0|438030|\n|438112|26.06.2021 22:41| 5412|         Aydın|    Aydin| 555807| 293208| 849015|   1119084|        10|         0|        10|438031|\n|438113|26.06.2021 22:41| 5412|     Balıkesir|Balikesir| 661424| 359073|1020497|   1240285|        18|         1|        19|438032|\n|438114|26.06.2021 22:41| 5412|        Bartın|   Bartin|  96816|  49086| 145902|    198979|         0|         0|         0|438033|\n|438115|26.06.2021 22:41| 5412|        Batman|   Batman| 108989|  48556| 157545|    620278|         1|         0|         1|438034|\n|438116|26.06.2021 22:41| 5412|       Bayburt|  Bayburt|  24128|  13155|  37283|     81910|         0|         0|         0|438035|\n|438117|26.06.2021 22:41| 5412|       Bilecik|  Bilecik| 108385|  49145| 157530|    218717|         2|         0|         2|438036|\n|438118|26.06.2021 22:41| 5412|        Bingöl|   Bingol|  57366|  30771|  88137|    281768|         1|         0|         1|438037|\n|438119|26.06.2021 22:41| 5412|        Bitlis|   Bitlis|  51093|  23726|  74819|    350994|         0|         0|         0|438038|\n|438120|26.06.2021 22:41| 5412|          Bolu|     Bolu| 151636|  75911| 227547|    314802|         4|         0|         4|438039|\n|438121|26.06.2021 22:41| 5412|        Burdur|   Burdur| 128036|  66955| 194991|    267092|         2|         0|         2|438040|\n+------+----------------+-----+--------------+---------+-------+-------+-------+----------+----------+----------+----------+------+\nonly showing top 20 rows\n\n"
     ]
    }
   ],
   "source": [
    "data.show()"
   ]
  },
  {
   "cell_type": "code",
   "execution_count": 0,
   "metadata": {
    "application/vnd.databricks.v1+cell": {
     "cellMetadata": {
      "byteLimit": 2048000,
      "rowLimit": 10000
     },
     "inputWidgets": {},
     "nuid": "2a50358e-e274-4e41-be18-7af582975d05",
     "showTitle": false,
     "title": ""
    }
   },
   "outputs": [],
   "source": [
    "data_=data.drop('SEQID','CITY2','DIFF_1DOSE','DIFF_2DOSE','DIFF_TOTAL','PREVID')"
   ]
  },
  {
   "cell_type": "code",
   "execution_count": 0,
   "metadata": {
    "application/vnd.databricks.v1+cell": {
     "cellMetadata": {
      "byteLimit": 2048000,
      "rowLimit": 10000
     },
     "inputWidgets": {},
     "nuid": "d7cce9e8-9805-453f-878e-fffd3c13fbac",
     "showTitle": false,
     "title": ""
    }
   },
   "outputs": [
    {
     "output_type": "stream",
     "name": "stdout",
     "output_type": "stream",
     "text": [
      "+------+----------------+--------------+-------+-------+-------+----------+\n|    ID|           DATE_|          CITY| _1DOSE| _2DOSE| _TOTAL|POPULATION|\n+------+----------------+--------------+-------+-------+-------+----------+\n|438102|26.06.2021 22:41|         Adana| 784464| 355404|1139868|   2258718|\n|438103|26.06.2021 22:41|      Adıyaman| 170847|  77955| 248802|    632459|\n|438104|26.06.2021 22:41|Afyonkarahisar| 292611| 138934| 431545|    736912|\n|438105|26.06.2021 22:41|          Ağrı|  94807|  41146| 135953|    535435|\n|438106|26.06.2021 22:41|       Aksaray| 131889|  62603| 194492|    423011|\n|438107|26.06.2021 22:41|        Amasya| 169285|  87322| 256607|    335494|\n|438108|26.06.2021 22:41|        Ankara|2652085|1241906|3893991|   5663322|\n|438109|26.06.2021 22:41|       Antalya|1055350| 530415|1585765|   2548308|\n|438110|26.06.2021 22:41|       Ardahan|  34629|  18642|  53271|     96161|\n|438111|26.06.2021 22:41|        Artvin|  80554|  43132| 123686|    169501|\n|438112|26.06.2021 22:41|         Aydın| 555807| 293208| 849015|   1119084|\n|438113|26.06.2021 22:41|     Balıkesir| 661424| 359073|1020497|   1240285|\n|438114|26.06.2021 22:41|        Bartın|  96816|  49086| 145902|    198979|\n|438115|26.06.2021 22:41|        Batman| 108989|  48556| 157545|    620278|\n|438116|26.06.2021 22:41|       Bayburt|  24128|  13155|  37283|     81910|\n|438117|26.06.2021 22:41|       Bilecik| 108385|  49145| 157530|    218717|\n|438118|26.06.2021 22:41|        Bingöl|  57366|  30771|  88137|    281768|\n|438119|26.06.2021 22:41|        Bitlis|  51093|  23726|  74819|    350994|\n|438120|26.06.2021 22:41|          Bolu| 151636|  75911| 227547|    314802|\n|438121|26.06.2021 22:41|        Burdur| 128036|  66955| 194991|    267092|\n+------+----------------+--------------+-------+-------+-------+----------+\nonly showing top 20 rows\n\n"
     ]
    }
   ],
   "source": [
    "data_.show()"
   ]
  },
  {
   "cell_type": "code",
   "execution_count": 0,
   "metadata": {
    "application/vnd.databricks.v1+cell": {
     "cellMetadata": {
      "byteLimit": 2048000,
      "rowLimit": 10000
     },
     "inputWidgets": {},
     "nuid": "2284ca10-08e2-47b2-a2eb-bb8a5f768049",
     "showTitle": false,
     "title": ""
    }
   },
   "outputs": [],
   "source": [
    "popTop10=data_.select('CITY','_TOTAL').sort('POPULATION',ascending=False).limit(10)"
   ]
  },
  {
   "cell_type": "code",
   "execution_count": 0,
   "metadata": {
    "application/vnd.databricks.v1+cell": {
     "cellMetadata": {
      "byteLimit": 2048000,
      "rowLimit": 10000
     },
     "inputWidgets": {},
     "nuid": "525a1881-3627-4ee1-8576-0f5c983cdc2e",
     "showTitle": false,
     "title": ""
    }
   },
   "outputs": [
    {
     "output_type": "stream",
     "name": "stdout",
     "output_type": "stream",
     "text": [
      "+---------+-------+\n|     CITY| _TOTAL|\n+---------+-------+\n| İstanbul|8617141|\n|   Ankara|3893991|\n|    İzmir|3142928|\n|    Bursa|1822577|\n|  Antalya|1585765|\n|    Adana|1139868|\n|    Konya|1132277|\n|Şanlıurfa| 375928|\n|Gaziantep| 778187|\n|  Kocaeli|1115365|\n+---------+-------+\n\n"
     ]
    }
   ],
   "source": [
    "popTop10.show()"
   ]
  },
  {
   "cell_type": "code",
   "execution_count": 0,
   "metadata": {
    "application/vnd.databricks.v1+cell": {
     "cellMetadata": {
      "byteLimit": 2048000,
      "rowLimit": 10000
     },
     "inputWidgets": {},
     "nuid": "92edeb7f-7793-4001-bddc-a53d1994ad00",
     "showTitle": false,
     "title": ""
    }
   },
   "outputs": [
    {
     "output_type": "display_data",
     "data": {
      "text/html": [
       "<style scoped>\n",
       "  .table-result-container {\n",
       "    max-height: 300px;\n",
       "    overflow: auto;\n",
       "  }\n",
       "  table, th, td {\n",
       "    border: 1px solid black;\n",
       "    border-collapse: collapse;\n",
       "  }\n",
       "  th, td {\n",
       "    padding: 5px;\n",
       "  }\n",
       "  th {\n",
       "    text-align: left;\n",
       "  }\n",
       "</style><div class='table-result-container'><table class='table-result'><thead style='background-color: white'><tr><th>CITY</th><th>_TOTAL</th></tr></thead><tbody><tr><td>İstanbul</td><td>8617141</td></tr><tr><td>Ankara</td><td>3893991</td></tr><tr><td>İzmir</td><td>3142928</td></tr><tr><td>Bursa</td><td>1822577</td></tr><tr><td>Antalya</td><td>1585765</td></tr><tr><td>Adana</td><td>1139868</td></tr><tr><td>Konya</td><td>1132277</td></tr><tr><td>Şanlıurfa</td><td>375928</td></tr><tr><td>Gaziantep</td><td>778187</td></tr><tr><td>Kocaeli</td><td>1115365</td></tr></tbody></table></div>"
      ]
     },
     "metadata": {
      "application/vnd.databricks.v1+output": {
       "addedWidgets": {},
       "aggData": [],
       "aggError": "",
       "aggOverflow": false,
       "aggSchema": [],
       "aggSeriesLimitReached": false,
       "aggType": "",
       "arguments": {},
       "columnCustomDisplayInfos": {},
       "data": [
        [
         "İstanbul",
         8617141
        ],
        [
         "Ankara",
         3893991
        ],
        [
         "İzmir",
         3142928
        ],
        [
         "Bursa",
         1822577
        ],
        [
         "Antalya",
         1585765
        ],
        [
         "Adana",
         1139868
        ],
        [
         "Konya",
         1132277
        ],
        [
         "Şanlıurfa",
         375928
        ],
        [
         "Gaziantep",
         778187
        ],
        [
         "Kocaeli",
         1115365
        ]
       ],
       "datasetInfos": [],
       "dbfsResultPath": null,
       "isJsonSchema": true,
       "metadata": {},
       "overflow": false,
       "plotOptions": {
        "customPlotOptions": {},
        "displayType": "table",
        "pivotAggregation": null,
        "pivotColumns": null,
        "xColumns": null,
        "yColumns": null
       },
       "removedWidgets": [],
       "schema": [
        {
         "metadata": "{}",
         "name": "CITY",
         "type": "\"string\""
        },
        {
         "metadata": "{}",
         "name": "_TOTAL",
         "type": "\"integer\""
        }
       ],
       "type": "table"
      }
     },
     "output_type": "display_data"
    }
   ],
   "source": [
    "display(popTop10)"
   ]
  },
  {
   "cell_type": "code",
   "execution_count": 0,
   "metadata": {
    "application/vnd.databricks.v1+cell": {
     "cellMetadata": {
      "byteLimit": 2048000,
      "rowLimit": 10000
     },
     "inputWidgets": {},
     "nuid": "6955d99f-fbcb-4cfd-9c42-928984e96d8f",
     "showTitle": false,
     "title": ""
    }
   },
   "outputs": [],
   "source": [
    "dose1_dose2=data_.select('CITY','_1DOSE','_2DOSE').sort('CITY').limit(5)"
   ]
  },
  {
   "cell_type": "code",
   "execution_count": 0,
   "metadata": {
    "application/vnd.databricks.v1+cell": {
     "cellMetadata": {
      "byteLimit": 2048000,
      "rowLimit": 10000
     },
     "inputWidgets": {},
     "nuid": "60deedc8-a0fe-4a9a-8c9c-7578f025392b",
     "showTitle": false,
     "title": ""
    }
   },
   "outputs": [
    {
     "output_type": "display_data",
     "data": {
      "text/html": [
       "<style scoped>\n",
       "  .table-result-container {\n",
       "    max-height: 300px;\n",
       "    overflow: auto;\n",
       "  }\n",
       "  table, th, td {\n",
       "    border: 1px solid black;\n",
       "    border-collapse: collapse;\n",
       "  }\n",
       "  th, td {\n",
       "    padding: 5px;\n",
       "  }\n",
       "  th {\n",
       "    text-align: left;\n",
       "  }\n",
       "</style><div class='table-result-container'><table class='table-result'><thead style='background-color: white'><tr><th>CITY</th><th>_1DOSE</th><th>_2DOSE</th></tr></thead><tbody><tr><td>Adana</td><td>784464</td><td>355404</td></tr><tr><td>Adıyaman</td><td>170847</td><td>77955</td></tr><tr><td>Afyonkarahisar</td><td>292611</td><td>138934</td></tr><tr><td>Aksaray</td><td>131889</td><td>62603</td></tr><tr><td>Amasya</td><td>169285</td><td>87322</td></tr></tbody></table></div>"
      ]
     },
     "metadata": {
      "application/vnd.databricks.v1+output": {
       "addedWidgets": {},
       "aggData": [],
       "aggError": "",
       "aggOverflow": false,
       "aggSchema": [],
       "aggSeriesLimitReached": false,
       "aggType": "",
       "arguments": {},
       "columnCustomDisplayInfos": {},
       "data": [
        [
         "Adana",
         784464,
         355404
        ],
        [
         "Adıyaman",
         170847,
         77955
        ],
        [
         "Afyonkarahisar",
         292611,
         138934
        ],
        [
         "Aksaray",
         131889,
         62603
        ],
        [
         "Amasya",
         169285,
         87322
        ]
       ],
       "datasetInfos": [],
       "dbfsResultPath": null,
       "isJsonSchema": true,
       "metadata": {},
       "overflow": false,
       "plotOptions": {
        "customPlotOptions": {},
        "displayType": "table",
        "pivotAggregation": null,
        "pivotColumns": null,
        "xColumns": null,
        "yColumns": null
       },
       "removedWidgets": [],
       "schema": [
        {
         "metadata": "{}",
         "name": "CITY",
         "type": "\"string\""
        },
        {
         "metadata": "{}",
         "name": "_1DOSE",
         "type": "\"integer\""
        },
        {
         "metadata": "{}",
         "name": "_2DOSE",
         "type": "\"integer\""
        }
       ],
       "type": "table"
      }
     },
     "output_type": "display_data"
    },
    {
     "output_type": "display_data",
     "data": {
      "text/plain": [
       "Databricks visualization. Run in Databricks to view."
      ]
     },
     "metadata": {
      "application/vnd.databricks.v1.subcommand+json": {
       "baseErrorDetails": null,
       "bindings": {},
       "collapsed": false,
       "command": "%python\n__backend_agg_display_orig = display\n__backend_agg_dfs = []\ndef __backend_agg_display_new(df):\n    __backend_agg_df_modules = [\"pandas.core.frame\", \"databricks.koalas.frame\", \"pyspark.sql.dataframe\", \"pyspark.pandas.frame\", \"pyspark.sql.connect.dataframe\"]\n    if (type(df).__module__ in __backend_agg_df_modules and type(df).__name__ == 'DataFrame') or isinstance(df, list):\n        __backend_agg_dfs.append(df)\n\ndisplay = __backend_agg_display_new\n\ndef __backend_agg_user_code_fn():\n    import base64\n    exec(base64.standard_b64decode(\"ZGlzcGxheShkb3NlMV9kb3NlMik=\").decode())\n\ntry:\n    # run user code\n    __backend_agg_user_code_fn()\n\n    #reset display function\n    display = __backend_agg_display_orig\n\n    if len(__backend_agg_dfs) > 0:\n        # create a temp view\n        if type(__backend_agg_dfs[0]).__module__ == \"databricks.koalas.frame\":\n            # koalas dataframe\n            __backend_agg_dfs[0].to_spark().createOrReplaceTempView(\"DatabricksView0287edf\")\n        elif type(__backend_agg_dfs[0]).__module__ == \"pandas.core.frame\" or isinstance(__backend_agg_dfs[0], list):\n            # pandas dataframe\n            spark.createDataFrame(__backend_agg_dfs[0]).createOrReplaceTempView(\"DatabricksView0287edf\")\n        else:\n            __backend_agg_dfs[0].createOrReplaceTempView(\"DatabricksView0287edf\")\n        #run backend agg\n        display(spark.sql(\"\"\"WITH q AS (select * from DatabricksView0287edf) SELECT `CITY`,SUM(`_1DOSE`) `column_c0fb498e27`,SUM(`_2DOSE`) `column_c0fb498e30` FROM q GROUP BY `CITY`\"\"\"))\n    else:\n        displayHTML(\"dataframe no longer exists. If you're using dataframe.display(), use display(dataframe) instead.\")\n\n\nfinally:\n    spark.sql(\"drop view if exists DatabricksView0287edf\")\n    display = __backend_agg_display_orig\n    del __backend_agg_display_new\n    del __backend_agg_display_orig\n    del __backend_agg_dfs\n    del __backend_agg_user_code_fn\n\n",
       "commandTitle": "Visualization 1",
       "commandType": "auto",
       "commandVersion": 0,
       "commentThread": [],
       "commentsVisible": false,
       "contentSha256Hex": null,
       "customPlotOptions": {
        "redashChart": [
         {
          "key": "type",
          "value": "CHART"
         },
         {
          "key": "options",
          "value": {
           "alignYAxesAtZero": true,
           "coefficient": 1,
           "columnConfigurationMap": {
            "x": {
             "column": "CITY",
             "id": "column_c0fb498e22"
            },
            "y": [
             {
              "column": "_1DOSE",
              "id": "column_c0fb498e27",
              "transform": "SUM"
             },
             {
              "column": "_2DOSE",
              "id": "column_c0fb498e30",
              "transform": "SUM"
             }
            ]
           },
           "dateTimeFormat": "DD/MM/YYYY HH:mm",
           "direction": {
            "type": "counterclockwise"
           },
           "error_y": {
            "type": "data",
            "visible": true
           },
           "globalSeriesType": "column",
           "isAggregationOn": true,
           "legend": {
            "traceorder": "normal"
           },
           "missingValuesAsZero": true,
           "numberFormat": "0,0.[00000]",
           "percentFormat": "0[.]00%",
           "series": {
            "error_y": {
             "type": "data",
             "visible": true
            },
            "stacking": null
           },
           "seriesOptions": {
            "column_c0fb498e19": {
             "name": "_2DOSE",
             "type": "column",
             "yAxis": 0
            },
            "column_c0fb498e24": {
             "type": "column",
             "yAxis": 0
            },
            "column_c0fb498e27": {
             "type": "column",
             "yAxis": 0
            },
            "column_c0fb498e30": {
             "type": "column",
             "yAxis": 0
            }
           },
           "showDataLabels": false,
           "sizemode": "diameter",
           "sortX": true,
           "sortY": true,
           "swappedAxes": false,
           "textFormat": "",
           "useAggregationsUi": true,
           "valuesOptions": {},
           "version": 2,
           "xAxis": {
            "labels": {
             "enabled": true
            },
            "type": "-"
           },
           "yAxis": [
            {
             "type": "-"
            },
            {
             "opposite": true,
             "type": "-"
            }
           ]
          }
         }
        ]
       },
       "datasetPreviewNameToCmdIdMap": {},
       "diffDeletes": [],
       "diffInserts": [],
       "displayType": "redashChart",
       "error": null,
       "errorDetails": null,
       "errorSummary": null,
       "errorTraceType": null,
       "finishTime": 0,
       "globalVars": {},
       "guid": "",
       "height": "auto",
       "hideCommandCode": false,
       "hideCommandResult": false,
       "iPythonMetadata": null,
       "inputWidgets": {},
       "isLockedInExamMode": false,
       "latestUser": "a user",
       "latestUserId": null,
       "listResultMetadata": null,
       "metadata": {},
       "nuid": "cfd91303-2002-4b24-9767-4d23e57e713b",
       "origId": 0,
       "parentHierarchy": [],
       "pivotAggregation": null,
       "pivotColumns": null,
       "position": 15.0,
       "resultDbfsErrorMessage": null,
       "resultDbfsStatus": "INLINED_IN_TREE",
       "results": null,
       "showCommandTitle": false,
       "startTime": 0,
       "state": "input",
       "streamStates": {},
       "subcommandOptions": {
        "queryPlan": {
         "groups": [
          {
           "column": "CITY",
           "type": "column"
          }
         ],
         "selects": [
          {
           "column": "CITY",
           "type": "column"
          },
          {
           "alias": "column_c0fb498e27",
           "args": [
            {
             "column": "_1DOSE",
             "type": "column"
            }
           ],
           "function": "SUM",
           "type": "function"
          },
          {
           "alias": "column_c0fb498e30",
           "args": [
            {
             "column": "_2DOSE",
             "type": "column"
            }
           ],
           "function": "SUM",
           "type": "function"
          }
         ]
        }
       },
       "submitTime": 0,
       "subtype": "tableResultSubCmd.visualization",
       "tableResultIndex": 0,
       "tableResultSettingsMap": null,
       "useConsistentColors": false,
       "version": "CommandV1",
       "width": "auto",
       "workflows": [],
       "xColumns": null,
       "yColumns": null
      }
     },
     "output_type": "display_data"
    }
   ],
   "source": [
    "display(dose1_dose2)"
   ]
  },
  {
   "cell_type": "code",
   "execution_count": 0,
   "metadata": {
    "application/vnd.databricks.v1+cell": {
     "cellMetadata": {
      "byteLimit": 2048000,
      "rowLimit": 10000
     },
     "inputWidgets": {},
     "nuid": "0f98dbcb-a516-4e88-b4d7-734ab44d2504",
     "showTitle": false,
     "title": ""
    }
   },
   "outputs": [],
   "source": [
    "reg=data_.select('_TOTAL','POPULATION')"
   ]
  },
  {
   "cell_type": "code",
   "execution_count": 0,
   "metadata": {
    "application/vnd.databricks.v1+cell": {
     "cellMetadata": {
      "byteLimit": 2048000,
      "rowLimit": 10000
     },
     "inputWidgets": {},
     "nuid": "63e896df-c195-4dbe-b81c-c15f4d151e7b",
     "showTitle": false,
     "title": ""
    }
   },
   "outputs": [
    {
     "output_type": "display_data",
     "data": {
      "text/html": [
       "<style scoped>\n",
       "  .table-result-container {\n",
       "    max-height: 300px;\n",
       "    overflow: auto;\n",
       "  }\n",
       "  table, th, td {\n",
       "    border: 1px solid black;\n",
       "    border-collapse: collapse;\n",
       "  }\n",
       "  th, td {\n",
       "    padding: 5px;\n",
       "  }\n",
       "  th {\n",
       "    text-align: left;\n",
       "  }\n",
       "</style><div class='table-result-container'><table class='table-result'><thead style='background-color: white'><tr><th>_TOTAL</th><th>POPULATION</th><th>CITY</th></tr></thead><tbody><tr><td>1139868</td><td>2258718</td><td>Adana</td></tr><tr><td>248802</td><td>632459</td><td>Adıyaman</td></tr><tr><td>431545</td><td>736912</td><td>Afyonkarahisar</td></tr><tr><td>135953</td><td>535435</td><td>Ağrı</td></tr><tr><td>194492</td><td>423011</td><td>Aksaray</td></tr><tr><td>256607</td><td>335494</td><td>Amasya</td></tr><tr><td>3893991</td><td>5663322</td><td>Ankara</td></tr><tr><td>1585765</td><td>2548308</td><td>Antalya</td></tr><tr><td>53271</td><td>96161</td><td>Ardahan</td></tr><tr><td>123686</td><td>169501</td><td>Artvin</td></tr><tr><td>849015</td><td>1119084</td><td>Aydın</td></tr><tr><td>1020497</td><td>1240285</td><td>Balıkesir</td></tr><tr><td>145902</td><td>198979</td><td>Bartın</td></tr><tr><td>157545</td><td>620278</td><td>Batman</td></tr><tr><td>37283</td><td>81910</td><td>Bayburt</td></tr><tr><td>157530</td><td>218717</td><td>Bilecik</td></tr><tr><td>88137</td><td>281768</td><td>Bingöl</td></tr><tr><td>74819</td><td>350994</td><td>Bitlis</td></tr><tr><td>227547</td><td>314802</td><td>Bolu</td></tr><tr><td>194991</td><td>267092</td><td>Burdur</td></tr><tr><td>1822577</td><td>3101833</td><td>Bursa</td></tr><tr><td>460095</td><td>541548</td><td>Çanakkale</td></tr><tr><td>127320</td><td>192428</td><td>Çankırı</td></tr><tr><td>360331</td><td>530126</td><td>Çorum</td></tr><tr><td>688083</td><td>1040915</td><td>Denizli</td></tr><tr><td>442035</td><td>1783431</td><td>Diyarbakır</td></tr><tr><td>231911</td><td>395679</td><td>Düzce</td></tr><tr><td>349857</td><td>407763</td><td>Edirne</td></tr><tr><td>292951</td><td>587960</td><td>Elazığ</td></tr><tr><td>140381</td><td>234431</td><td>Erzincan</td></tr><tr><td>318718</td><td>758279</td><td>Erzurum</td></tr><tr><td>672665</td><td>888828</td><td>Eskişehir</td></tr><tr><td>778187</td><td>2101157</td><td>Gaziantep</td></tr><tr><td>334731</td><td>448721</td><td>Giresun</td></tr><tr><td>66120</td><td>141702</td><td>Gümüşhane</td></tr><tr><td>61180</td><td>280514</td><td>Hakkari</td></tr><tr><td>735439</td><td>1659320</td><td>Hatay</td></tr><tr><td>64951</td><td>201314</td><td>Iğdır</td></tr><tr><td>313856</td><td>440304</td><td>Isparta</td></tr><tr><td>8617141</td><td>15462452</td><td>İstanbul</td></tr><tr><td>3142928</td><td>4394694</td><td>İzmir</td></tr><tr><td>485392</td><td>1168163</td><td>Kahramanmaraş</td></tr><tr><td>165165</td><td>243614</td><td>Karabük</td></tr><tr><td>144641</td><td>254919</td><td>Karaman</td></tr><tr><td>119780</td><td>284923</td><td>Kars</td></tr><tr><td>275403</td><td>376377</td><td>Kastamonu</td></tr><tr><td>785275</td><td>1421455</td><td>Kayseri</td></tr><tr><td>175651</td><td>278703</td><td>Kırıkkale</td></tr><tr><td>296527</td><td>361737</td><td>Kırklareli</td></tr><tr><td>161738</td><td>243042</td><td>Kırşehir</td></tr><tr><td>62220</td><td>142792</td><td>Kilis</td></tr><tr><td>1115365</td><td>1997258</td><td>Kocaeli</td></tr><tr><td>1132277</td><td>2250020</td><td>Konya</td></tr><tr><td>379920</td><td>576688</td><td>Kütahya</td></tr><tr><td>437319</td><td>806156</td><td>Malatya</td></tr><tr><td>921654</td><td>1450616</td><td>Manisa</td></tr><tr><td>177609</td><td>854716</td><td>Mardin</td></tr><tr><td>1080427</td><td>1868757</td><td>Mersin</td></tr><tr><td>865620</td><td>1000773</td><td>Muğla</td></tr><tr><td>91243</td><td>411117</td><td>Muş</td></tr><tr><td>182025</td><td>304962</td><td>Nevşehir</td></tr><tr><td>183531</td><td>362071</td><td>Niğde</td></tr><tr><td>539515</td><td>761400</td><td>Ordu</td></tr><tr><td>294010</td><td>548556</td><td>Osmaniye</td></tr><tr><td>223962</td><td>344359</td><td>Rize</td></tr><tr><td>580524</td><td>1042649</td><td>Sakarya</td></tr><tr><td>855399</td><td>1356079</td><td>Samsun</td></tr><tr><td>65203</td><td>331070</td><td>Siirt</td></tr><tr><td>166394</td><td>216460</td><td>Sinop</td></tr><tr><td>371178</td><td>635889</td><td>Sivas</td></tr><tr><td>375928</td><td>2115256</td><td>Şanlıurfa</td></tr><tr><td>96097</td><td>537762</td><td>Şırnak</td></tr><tr><td>685872</td><td>1081065</td><td>Tekirdağ</td></tr><tr><td>387708</td><td>597861</td><td>Tokat</td></tr><tr><td>528361</td><td>811901</td><td>Trabzon</td></tr><tr><td>64109</td><td>83443</td><td>Tunceli</td></tr><tr><td>250214</td><td>369433</td><td>Uşak</td></tr><tr><td>327849</td><td>1149342</td><td>Van</td></tr><tr><td>195808</td><td>276050</td><td>Yalova</td></tr><tr><td>233749</td><td>419095</td><td>Yozgat</td></tr><tr><td>414815</td><td>591204</td><td>Zonguldak</td></tr></tbody></table></div>"
      ]
     },
     "metadata": {
      "application/vnd.databricks.v1+output": {
       "addedWidgets": {},
       "aggData": [],
       "aggError": "",
       "aggOverflow": false,
       "aggSchema": [],
       "aggSeriesLimitReached": false,
       "aggType": "",
       "arguments": {},
       "columnCustomDisplayInfos": {},
       "data": [
        [
         1139868,
         2258718,
         "Adana"
        ],
        [
         248802,
         632459,
         "Adıyaman"
        ],
        [
         431545,
         736912,
         "Afyonkarahisar"
        ],
        [
         135953,
         535435,
         "Ağrı"
        ],
        [
         194492,
         423011,
         "Aksaray"
        ],
        [
         256607,
         335494,
         "Amasya"
        ],
        [
         3893991,
         5663322,
         "Ankara"
        ],
        [
         1585765,
         2548308,
         "Antalya"
        ],
        [
         53271,
         96161,
         "Ardahan"
        ],
        [
         123686,
         169501,
         "Artvin"
        ],
        [
         849015,
         1119084,
         "Aydın"
        ],
        [
         1020497,
         1240285,
         "Balıkesir"
        ],
        [
         145902,
         198979,
         "Bartın"
        ],
        [
         157545,
         620278,
         "Batman"
        ],
        [
         37283,
         81910,
         "Bayburt"
        ],
        [
         157530,
         218717,
         "Bilecik"
        ],
        [
         88137,
         281768,
         "Bingöl"
        ],
        [
         74819,
         350994,
         "Bitlis"
        ],
        [
         227547,
         314802,
         "Bolu"
        ],
        [
         194991,
         267092,
         "Burdur"
        ],
        [
         1822577,
         3101833,
         "Bursa"
        ],
        [
         460095,
         541548,
         "Çanakkale"
        ],
        [
         127320,
         192428,
         "Çankırı"
        ],
        [
         360331,
         530126,
         "Çorum"
        ],
        [
         688083,
         1040915,
         "Denizli"
        ],
        [
         442035,
         1783431,
         "Diyarbakır"
        ],
        [
         231911,
         395679,
         "Düzce"
        ],
        [
         349857,
         407763,
         "Edirne"
        ],
        [
         292951,
         587960,
         "Elazığ"
        ],
        [
         140381,
         234431,
         "Erzincan"
        ],
        [
         318718,
         758279,
         "Erzurum"
        ],
        [
         672665,
         888828,
         "Eskişehir"
        ],
        [
         778187,
         2101157,
         "Gaziantep"
        ],
        [
         334731,
         448721,
         "Giresun"
        ],
        [
         66120,
         141702,
         "Gümüşhane"
        ],
        [
         61180,
         280514,
         "Hakkari"
        ],
        [
         735439,
         1659320,
         "Hatay"
        ],
        [
         64951,
         201314,
         "Iğdır"
        ],
        [
         313856,
         440304,
         "Isparta"
        ],
        [
         8617141,
         15462452,
         "İstanbul"
        ],
        [
         3142928,
         4394694,
         "İzmir"
        ],
        [
         485392,
         1168163,
         "Kahramanmaraş"
        ],
        [
         165165,
         243614,
         "Karabük"
        ],
        [
         144641,
         254919,
         "Karaman"
        ],
        [
         119780,
         284923,
         "Kars"
        ],
        [
         275403,
         376377,
         "Kastamonu"
        ],
        [
         785275,
         1421455,
         "Kayseri"
        ],
        [
         175651,
         278703,
         "Kırıkkale"
        ],
        [
         296527,
         361737,
         "Kırklareli"
        ],
        [
         161738,
         243042,
         "Kırşehir"
        ],
        [
         62220,
         142792,
         "Kilis"
        ],
        [
         1115365,
         1997258,
         "Kocaeli"
        ],
        [
         1132277,
         2250020,
         "Konya"
        ],
        [
         379920,
         576688,
         "Kütahya"
        ],
        [
         437319,
         806156,
         "Malatya"
        ],
        [
         921654,
         1450616,
         "Manisa"
        ],
        [
         177609,
         854716,
         "Mardin"
        ],
        [
         1080427,
         1868757,
         "Mersin"
        ],
        [
         865620,
         1000773,
         "Muğla"
        ],
        [
         91243,
         411117,
         "Muş"
        ],
        [
         182025,
         304962,
         "Nevşehir"
        ],
        [
         183531,
         362071,
         "Niğde"
        ],
        [
         539515,
         761400,
         "Ordu"
        ],
        [
         294010,
         548556,
         "Osmaniye"
        ],
        [
         223962,
         344359,
         "Rize"
        ],
        [
         580524,
         1042649,
         "Sakarya"
        ],
        [
         855399,
         1356079,
         "Samsun"
        ],
        [
         65203,
         331070,
         "Siirt"
        ],
        [
         166394,
         216460,
         "Sinop"
        ],
        [
         371178,
         635889,
         "Sivas"
        ],
        [
         375928,
         2115256,
         "Şanlıurfa"
        ],
        [
         96097,
         537762,
         "Şırnak"
        ],
        [
         685872,
         1081065,
         "Tekirdağ"
        ],
        [
         387708,
         597861,
         "Tokat"
        ],
        [
         528361,
         811901,
         "Trabzon"
        ],
        [
         64109,
         83443,
         "Tunceli"
        ],
        [
         250214,
         369433,
         "Uşak"
        ],
        [
         327849,
         1149342,
         "Van"
        ],
        [
         195808,
         276050,
         "Yalova"
        ],
        [
         233749,
         419095,
         "Yozgat"
        ],
        [
         414815,
         591204,
         "Zonguldak"
        ]
       ],
       "datasetInfos": [],
       "dbfsResultPath": null,
       "isJsonSchema": true,
       "metadata": {},
       "overflow": false,
       "plotOptions": {
        "customPlotOptions": {},
        "displayType": "table",
        "pivotAggregation": null,
        "pivotColumns": null,
        "xColumns": null,
        "yColumns": null
       },
       "removedWidgets": [],
       "schema": [
        {
         "metadata": "{}",
         "name": "_TOTAL",
         "type": "\"integer\""
        },
        {
         "metadata": "{}",
         "name": "POPULATION",
         "type": "\"integer\""
        },
        {
         "metadata": "{}",
         "name": "CITY",
         "type": "\"string\""
        }
       ],
       "type": "table"
      }
     },
     "output_type": "display_data"
    },
    {
     "output_type": "display_data",
     "data": {
      "text/plain": [
       "Databricks visualization. Run in Databricks to view."
      ]
     },
     "metadata": {
      "application/vnd.databricks.v1.subcommand+json": {
       "baseErrorDetails": null,
       "bindings": {},
       "collapsed": false,
       "command": "%python\n__backend_agg_display_orig = display\n__backend_agg_dfs = []\ndef __backend_agg_display_new(df):\n    __backend_agg_df_modules = [\"pandas.core.frame\", \"databricks.koalas.frame\", \"pyspark.sql.dataframe\", \"pyspark.pandas.frame\", \"pyspark.sql.connect.dataframe\"]\n    if (type(df).__module__ in __backend_agg_df_modules and type(df).__name__ == 'DataFrame') or isinstance(df, list):\n        __backend_agg_dfs.append(df)\n\ndisplay = __backend_agg_display_new\n\ndef __backend_agg_user_code_fn():\n    import base64\n    exec(base64.standard_b64decode(\"ZGlzcGxheShyZWcp\").decode())\n\ntry:\n    # run user code\n    __backend_agg_user_code_fn()\n\n    #reset display function\n    display = __backend_agg_display_orig\n\n    if len(__backend_agg_dfs) > 0:\n        # create a temp view\n        if type(__backend_agg_dfs[0]).__module__ == \"databricks.koalas.frame\":\n            # koalas dataframe\n            __backend_agg_dfs[0].to_spark().createOrReplaceTempView(\"DatabricksView4f7a1f8\")\n        elif type(__backend_agg_dfs[0]).__module__ == \"pandas.core.frame\" or isinstance(__backend_agg_dfs[0], list):\n            # pandas dataframe\n            spark.createDataFrame(__backend_agg_dfs[0]).createOrReplaceTempView(\"DatabricksView4f7a1f8\")\n        else:\n            __backend_agg_dfs[0].createOrReplaceTempView(\"DatabricksView4f7a1f8\")\n        #run backend agg\n        display(spark.sql(\"\"\"WITH q AS (select * from DatabricksView4f7a1f8) SELECT `_TOTAL`,`POPULATION` FROM q\"\"\"))\n    else:\n        displayHTML(\"dataframe no longer exists. If you're using dataframe.display(), use display(dataframe) instead.\")\n\n\nfinally:\n    spark.sql(\"drop view if exists DatabricksView4f7a1f8\")\n    display = __backend_agg_display_orig\n    del __backend_agg_display_new\n    del __backend_agg_display_orig\n    del __backend_agg_dfs\n    del __backend_agg_user_code_fn\n\n",
       "commandTitle": "Visualization 1",
       "commandType": "auto",
       "commandVersion": 0,
       "commentThread": [],
       "commentsVisible": false,
       "contentSha256Hex": null,
       "customPlotOptions": {
        "redashChart": [
         {
          "key": "type",
          "value": "CHART"
         },
         {
          "key": "options",
          "value": {
           "alignYAxesAtZero": true,
           "coefficient": 1,
           "columnConfigurationMap": {
            "x": {
             "column": "_TOTAL",
             "id": "column_c0fb498e39"
            },
            "y": [
             {
              "column": "POPULATION",
              "id": "column_c0fb498e40"
             }
            ]
           },
           "dateTimeFormat": "DD/MM/YYYY HH:mm",
           "direction": {
            "type": "counterclockwise"
           },
           "error_y": {
            "type": "data",
            "visible": true
           },
           "globalSeriesType": "scatter",
           "legend": {
            "traceorder": "normal"
           },
           "missingValuesAsZero": true,
           "numberFormat": "0,0.[00000]",
           "percentFormat": "0[.]00%",
           "series": {
            "error_y": {
             "type": "data",
             "visible": true
            },
            "stacking": null
           },
           "seriesOptions": {
            "POPULATION": {
             "type": "scatter",
             "yAxis": 0
            }
           },
           "showDataLabels": false,
           "sizemode": "diameter",
           "sortX": true,
           "sortY": true,
           "swappedAxes": false,
           "textFormat": "",
           "useAggregationsUi": true,
           "valuesOptions": {},
           "version": 2,
           "xAxis": {
            "labels": {
             "enabled": true
            },
            "type": "-"
           },
           "yAxis": [
            {
             "type": "-"
            },
            {
             "opposite": true,
             "type": "-"
            }
           ]
          }
         }
        ]
       },
       "datasetPreviewNameToCmdIdMap": {},
       "diffDeletes": [],
       "diffInserts": [],
       "displayType": "redashChart",
       "error": null,
       "errorDetails": null,
       "errorSummary": null,
       "errorTraceType": null,
       "finishTime": 0,
       "globalVars": {},
       "guid": "",
       "height": "auto",
       "hideCommandCode": false,
       "hideCommandResult": false,
       "iPythonMetadata": null,
       "inputWidgets": {},
       "isLockedInExamMode": false,
       "latestUser": "a user",
       "latestUserId": null,
       "listResultMetadata": null,
       "metadata": {},
       "nuid": "10f4bbf1-db88-458b-be38-a130b273a6d2",
       "origId": 0,
       "parentHierarchy": [],
       "pivotAggregation": null,
       "pivotColumns": null,
       "position": 17.0,
       "resultDbfsErrorMessage": null,
       "resultDbfsStatus": "INLINED_IN_TREE",
       "results": null,
       "showCommandTitle": false,
       "startTime": 0,
       "state": "input",
       "streamStates": {},
       "subcommandOptions": {
        "queryPlan": {
         "selects": [
          {
           "column": "_TOTAL",
           "type": "column"
          },
          {
           "column": "POPULATION",
           "type": "column"
          }
         ]
        }
       },
       "submitTime": 0,
       "subtype": "tableResultSubCmd.visualization",
       "tableResultIndex": 0,
       "tableResultSettingsMap": null,
       "useConsistentColors": false,
       "version": "CommandV1",
       "width": "auto",
       "workflows": [],
       "xColumns": null,
       "yColumns": null
      }
     },
     "output_type": "display_data"
    }
   ],
   "source": [
    "display(reg)"
   ]
  },
  {
   "cell_type": "code",
   "execution_count": 0,
   "metadata": {
    "application/vnd.databricks.v1+cell": {
     "cellMetadata": {
      "byteLimit": 2048000,
      "rowLimit": 10000
     },
     "inputWidgets": {},
     "nuid": "8ba76752-fe16-47c2-826f-0f99c72bcab8",
     "showTitle": false,
     "title": ""
    }
   },
   "outputs": [
    {
     "output_type": "stream",
     "name": "stdout",
     "output_type": "stream",
     "text": [
      "+-----------+\n|sum(_1DOSE)|\n+-----------+\n|   32119973|\n+-----------+\n\n+-----------+\n|sum(_2DOSE)|\n+-----------+\n|   14814207|\n+-----------+\n\n"
     ]
    }
   ],
   "source": [
    "data_.agg({'_1DOSE':'sum'}).show()\n",
    "data_.agg({'_2DOSE':'sum'}).show()"
   ]
  },
  {
   "cell_type": "code",
   "execution_count": 0,
   "metadata": {
    "application/vnd.databricks.v1+cell": {
     "cellMetadata": {
      "byteLimit": 2048000,
      "rowLimit": 10000
     },
     "inputWidgets": {},
     "nuid": "b348f8a3-46c0-421f-9bb4-745f68800e80",
     "showTitle": false,
     "title": ""
    }
   },
   "outputs": [
    {
     "output_type": "stream",
     "name": "stdout",
     "output_type": "stream",
     "text": [
      "+-------+-----+\n| _1DOSE|count|\n+-------+-----+\n| 784464|    1|\n|  24128|    1|\n|1272038|    1|\n| 123623|    1|\n|  45367|    1|\n| 250396|    1|\n| 275433|    1|\n|  81521|    1|\n| 145810|    1|\n| 226150|    1|\n| 205991|    1|\n| 108385|    1|\n| 158046|    1|\n| 238440|    1|\n| 104450|    1|\n| 169159|    1|\n| 124235|    1|\n| 131889|    1|\n|  80554|    1|\n| 151825|    1|\n+-------+-----+\nonly showing top 20 rows\n\n"
     ]
    }
   ],
   "source": [
    "data_.groupBy('_1DOSE').count().orderBy('count',ascending=False).show()"
   ]
  },
  {
   "cell_type": "code",
   "execution_count": 0,
   "metadata": {
    "application/vnd.databricks.v1+cell": {
     "cellMetadata": {
      "byteLimit": 2048000,
      "rowLimit": 10000
     },
     "inputWidgets": {},
     "nuid": "bcf0bf77-bd58-4eeb-b489-b6a1f43e7913",
     "showTitle": false,
     "title": ""
    }
   },
   "outputs": [
    {
     "output_type": "stream",
     "name": "stdout",
     "output_type": "stream",
     "text": [
      "+-------+----------+------+\n|   CITY|POPULATION|_TOTAL|\n+-------+----------+------+\n|Ardahan|     96161| 53271|\n|Bayburt|     81910| 37283|\n|Tunceli|     83443| 64109|\n+-------+----------+------+\n\n"
     ]
    }
   ],
   "source": [
    "data_.select('CITY','POPULATION','_TOTAL').filter(data_['POPULATION']<100000).show()"
   ]
  },
  {
   "cell_type": "code",
   "execution_count": 0,
   "metadata": {
    "application/vnd.databricks.v1+cell": {
     "cellMetadata": {},
     "inputWidgets": {},
     "nuid": "fb706b7d-9d52-4607-ac0e-afbd49411271",
     "showTitle": false,
     "title": ""
    }
   },
   "outputs": [],
   "source": []
  }
 ],
 "metadata": {
  "application/vnd.databricks.v1+notebook": {
   "dashboards": [],
   "environmentMetadata": null,
   "language": "python",
   "notebookMetadata": {
    "pythonIndentUnit": 4
   },
   "notebookName": "Covid19 Aşı Veri Analizi",
   "widgets": {}
  }
 },
 "nbformat": 4,
 "nbformat_minor": 0
}
